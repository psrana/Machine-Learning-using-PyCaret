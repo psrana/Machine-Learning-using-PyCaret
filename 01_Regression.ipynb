{
  "cells": [
    {
      "cell_type": "markdown",
      "metadata": {
        "id": "view-in-github",
        "colab_type": "text"
      },
      "source": [
        "<a href=\"https://colab.research.google.com/github/psrana/Machine-Learning-using-PyCaret/blob/main/01_Regression.ipynb\" target=\"_parent\"><img src=\"https://colab.research.google.com/assets/colab-badge.svg\" alt=\"Open In Colab\"/></a>"
      ]
    },
    {
      "cell_type": "markdown",
      "metadata": {
        "id": "7nQSRI4Dim1Y"
      },
      "source": [
        "---\n",
        "# **PyCaret for Regression**\n",
        "---\n",
        "- It is a bundle of many Machine Learning algorithms.\n",
        "- Only three lines of code is required to compare 20 ML models.\n",
        "- Pycaret is available for:\n",
        "    - Classification\n",
        "    - Regression\n",
        "    - Clustering\n",
        "---\n",
        "\n",
        "### **Self learning resource**\n",
        "1. Tutorial on Pycaret **<a href=\"https://pycaret.readthedocs.io/en/latest/tutorials.html\" target=\"_blank\"> Click Here</a>**\n",
        "\n",
        "2. Documentation on Pycaret-Regression: **<a href=\"https://pycaret.readthedocs.io/en/latest/tutorials.html#regression\" target=\"_blank\"> Click Here </a>**\n",
        "\n",
        "---\n",
        "\n",
        "### **In this tutorial we will learn:**\n",
        "\n",
        "- Getting Data\n",
        "- Setting up Environment\n",
        "- Create Model\n",
        "- Tune Model\n",
        "- Plot Model\n",
        "- Finalize Model\n",
        "- Predict Model\n",
        "- Save / Load Model\n",
        "---\n",
        "\n"
      ]
    },
    {
      "cell_type": "markdown",
      "metadata": {
        "id": "A30y-VtNim1h"
      },
      "source": [
        "### **(a) Install Pycaret**"
      ]
    },
    {
      "cell_type": "code",
      "execution_count": null,
      "metadata": {
        "id": "cF_mSA9Xim1j"
      },
      "outputs": [],
      "source": [
        "!pip install pycaret &> /dev/null\n",
        "print (\"Pycaret installed sucessfully!!\")"
      ]
    },
    {
      "cell_type": "markdown",
      "metadata": {
        "id": "UjvBYy0Lim1m"
      },
      "source": [
        "### **(b) Get the version of the pycaret**"
      ]
    },
    {
      "cell_type": "code",
      "execution_count": null,
      "metadata": {
        "id": "NHB2KMhZim1o"
      },
      "outputs": [],
      "source": [
        "from pycaret.utils import version\n",
        "version()"
      ]
    },
    {
      "cell_type": "markdown",
      "metadata": {
        "id": "BTLd3s--im1c"
      },
      "source": [
        "---\n",
        "# **1. Regression: Basics**\n",
        "---\n",
        "### **1.1 Get the list of datasets available in pycaret (Total Datasets = 56)**\n",
        "\n",
        "\n"
      ]
    },
    {
      "cell_type": "code",
      "execution_count": null,
      "metadata": {
        "id": "veBU-f21im1x"
      },
      "outputs": [],
      "source": [
        "from pycaret.datasets import get_data\n",
        "\n",
        "dataSets = get_data('index')"
      ]
    },
    {
      "cell_type": "markdown",
      "metadata": {
        "id": "nRWYsJNVim1z"
      },
      "source": [
        "---\n",
        "### **1.2 Get the \"boston\" dataset (Step-I)**\n",
        "---"
      ]
    },
    {
      "cell_type": "code",
      "execution_count": null,
      "metadata": {
        "id": "41abL1k-im10",
        "scrolled": true
      },
      "outputs": [],
      "source": [
        "myDataSet = get_data(\"boston\")    # SN is 46\n",
        "\n",
        "# This is supervised dataset.\n",
        "# \"medv\" is the target column."
      ]
    },
    {
      "cell_type": "markdown",
      "metadata": {
        "id": "NqHOIj0GBeDR"
      },
      "source": [
        "---\n",
        "### **1.3 Save and Download the dataset to local system**\n",
        "---"
      ]
    },
    {
      "cell_type": "code",
      "execution_count": null,
      "metadata": {
        "id": "Y2Dfn2ONBfjE"
      },
      "outputs": [],
      "source": [
        "myDataSet.to_csv(\"myDataSet.csv\")\n",
        "\n",
        "# Download from \"Files\" Folder"
      ]
    },
    {
      "cell_type": "markdown",
      "metadata": {
        "id": "E3BNV7YLim12"
      },
      "source": [
        "---\n",
        "### **1.4 Parameter setting for all models (Step-II)**\n",
        "- ##### **Train/Test division, applying data pre-processing** {Sampling, Normalization, Transformation, PCA, Handaling of Outliers, Feature Selection}\n",
        "---"
      ]
    },
    {
      "cell_type": "code",
      "execution_count": null,
      "metadata": {
        "id": "c6KthRB9im14"
      },
      "outputs": [],
      "source": [
        "from pycaret.regression import *\n",
        "s = setup(data =  myDataSet, target = 'medv')\n",
        "\n",
        "# Comment the above line-code and Uncomment below line-code and re-run it\n",
        "#s = setup(data =  myDataSet, target = 'medv', train_size = 0.7, data_split_shuffle = False)\n",
        "\n",
        "# Other Parameters:\n",
        "# train_size = 0.7\n",
        "# data_split_shuffle = False"
      ]
    },
    {
      "cell_type": "markdown",
      "metadata": {
        "id": "Kaevs6ROim18"
      },
      "source": [
        "---\n",
        "### **1.5 Run all models (Step-III)**\n",
        "---"
      ]
    },
    {
      "cell_type": "code",
      "execution_count": null,
      "metadata": {
        "id": "XmPJbrOXim19"
      },
      "outputs": [],
      "source": [
        "cm = compare_models()"
      ]
    },
    {
      "cell_type": "markdown",
      "metadata": {
        "id": "w8BLSpegim1_"
      },
      "source": [
        "---\n",
        "### **1.6 \"Three line of code\" for model comparison for \"Boston\" dataset**\n",
        "---\n",
        "\n"
      ]
    },
    {
      "cell_type": "code",
      "execution_count": null,
      "metadata": {
        "id": "QPY6bvTsim1_"
      },
      "outputs": [],
      "source": [
        "from pycaret.datasets import get_data\n",
        "from pycaret.regression import *\n",
        "\n",
        "myDataSet = get_data(\"boston\", verbose = False)\n",
        "\n",
        "setup(data = myDataSet, target = 'medv',\n",
        "      train_size = 0.7,\n",
        "      data_split_shuffle = False,\n",
        "      verbose = False)\n",
        "\n",
        "cm = compare_models()"
      ]
    },
    {
      "cell_type": "markdown",
      "metadata": {
        "id": "3Ij2kL4zoMG4"
      },
      "source": [
        "---\n",
        "### **1.7 \"Three line of code\" for model comparison for \"Insurance\" dataset**\n",
        "---\n",
        "\n"
      ]
    },
    {
      "cell_type": "code",
      "execution_count": null,
      "metadata": {
        "id": "MnJrgvdkoMG9"
      },
      "outputs": [],
      "source": [
        "from pycaret.datasets import get_data\n",
        "from pycaret.regression import *\n",
        "\n",
        "myDataSet = get_data(\"insurance\", verbose = False)\n",
        "\n",
        "setup(data = myDataSet, target = 'charges',\n",
        "      train_size = 0.7,\n",
        "      data_split_shuffle = False,\n",
        "      verbose = False)\n",
        "\n",
        "cm = compare_models()"
      ]
    },
    {
      "cell_type": "markdown",
      "metadata": {
        "id": "aIIVJHZC3k4b"
      },
      "source": [
        "---\n",
        "### **1.8 List all available models in pycaret**\n",
        "---\n",
        "\n"
      ]
    },
    {
      "cell_type": "code",
      "execution_count": null,
      "metadata": {
        "id": "2d0IzyPP3k4c"
      },
      "outputs": [],
      "source": [
        "models()"
      ]
    },
    {
      "cell_type": "markdown",
      "metadata": {
        "id": "9GWuAHd7xQ8i"
      },
      "source": [
        "---\n",
        "# **2. Regression: working with user dataset**\n",
        "---\n"
      ]
    },
    {
      "cell_type": "code",
      "execution_count": null,
      "metadata": {
        "id": "6ztv-AJdmhcf",
        "scrolled": true
      },
      "outputs": [],
      "source": [
        "from pycaret.regression import *\n",
        "import pandas as pd\n",
        "\n",
        "# First upload the user file (myDataSet.csv) in the colab\n",
        "\n",
        "#myDataSet = pd.read_csv(\"myDataSet.csv\")                       # Uncomment and execute\n",
        "#s = setup(data = myDataSet, target = 'RMSD', verbose=False)      # Uncomment and execute\n",
        "#cm = compare_models()                                          # Uncomment and execute"
      ]
    },
    {
      "cell_type": "markdown",
      "metadata": {
        "id": "zUfHO4wKim1_"
      },
      "source": [
        "---\n",
        "# **3. Regression: Apply \"Data Preprocessing\"**\n",
        "---\n",
        "\n",
        "### **3.1 Model performance using \"Normalization\"**"
      ]
    },
    {
      "cell_type": "code",
      "execution_count": null,
      "metadata": {
        "id": "Atd6jNvmim2A"
      },
      "outputs": [],
      "source": [
        "from pycaret.datasets import get_data\n",
        "from pycaret.regression import *\n",
        "myDataSet = get_data(\"boston\", verbose = False)\n",
        "\n",
        "setup(data = myDataSet, target = 'medv',\n",
        "      normalize = True,\n",
        "      normalize_method = 'zscore',\n",
        "      verbose = False)\n",
        "\n",
        "cm = compare_models()\n",
        "\n",
        "# Re-run the code again for different parameters\n",
        "# normalize_method = {zscore, minmax, maxabs, robust}"
      ]
    },
    {
      "cell_type": "markdown",
      "metadata": {
        "id": "Nf8L2_EnRyKX"
      },
      "source": [
        "---\n",
        "####**Explore more parameters of \"setup()\" on pycaret**\n",
        "---\n",
        "- Explore setup() paramaeters in **Step 1.3**\n",
        "- **<a href=\"https://pycaret.readthedocs.io/en/latest/api/regression.html\" target=\"_blank\"> Click Here</a>** for more"
      ]
    },
    {
      "cell_type": "markdown",
      "metadata": {
        "id": "oWMPU3KMim2B"
      },
      "source": [
        "---\n",
        "### **3.2 Visualize Feature importance**\n",
        "---"
      ]
    },
    {
      "cell_type": "code",
      "source": [
        "from pycaret.datasets import get_data\n",
        "from pycaret.regression import *\n",
        "\n",
        "myDataSet = get_data(\"boston\", verbose = False)\n",
        "setup(data = myDataSet, target='medv', verbose = False)\n",
        "\n",
        "rfModel = create_model('rf', verbose = False)\n",
        "\n",
        "plot_model(rfModel, plot = 'feature')"
      ],
      "metadata": {
        "id": "oojHWHpEJLjV"
      },
      "execution_count": null,
      "outputs": []
    },
    {
      "cell_type": "markdown",
      "metadata": {
        "id": "5y7bTnRcxhy2"
      },
      "source": [
        "---\n",
        "### **3.3 Model performance using \"Feature Selection\"**\n",
        "---"
      ]
    },
    {
      "cell_type": "code",
      "execution_count": null,
      "metadata": {
        "id": "43l42fj_im2C"
      },
      "outputs": [],
      "source": [
        "from pycaret.datasets import get_data\n",
        "from pycaret.regression import *\n",
        "myDataSet = get_data(\"boston\", verbose = False)\n",
        "\n",
        "setup(data = myDataSet, target = 'medv',\n",
        "      feature_selection = True,\n",
        "      feature_selection_method = 'univariate',\n",
        "      n_features_to_select = 0.2,\n",
        "      verbose = False)\n",
        "\n",
        "cm = compare_models()\n",
        "\n",
        "\n",
        "# Re-run the code again for different parameters\n",
        "# feature_selection_method = {univariate, classic, sequential}\n",
        "# n_features_to_select = {0.1, 0.2, 0.3, 0.4, 0.5, ..... }"
      ]
    },
    {
      "cell_type": "markdown",
      "metadata": {
        "id": "kt034D2wim2C"
      },
      "source": [
        "---\n",
        "### **3.3 Model performance using \"Outlier Removal\"**\n",
        "---"
      ]
    },
    {
      "cell_type": "code",
      "execution_count": null,
      "metadata": {
        "id": "oAaDhJctim2D"
      },
      "outputs": [],
      "source": [
        "from pycaret.datasets import get_data\n",
        "from pycaret.regression import *\n",
        "myDataSet = get_data(\"boston\", verbose = False)\n",
        "\n",
        "setup(data = myDataSet, target = 'medv',\n",
        "      remove_outliers = True,\n",
        "      outliers_method = \"iforest\",\n",
        "      outliers_threshold = 0.05,\n",
        "      verbose = False)\n",
        "\n",
        "cm = compare_models()\n",
        "\n",
        "# Re-run the code again for different parameters\n",
        "# outliers_threshold = {0.04, 0.05, 0.06, 0.07, 0.08, ....}\n",
        "# outliers_method = {iforest, ee, lof}"
      ]
    },
    {
      "cell_type": "markdown",
      "metadata": {
        "id": "Tp1zLWiFim2D"
      },
      "source": [
        "---\n",
        "### **3.4 Model performance using \"Transformation\"**\n",
        "---"
      ]
    },
    {
      "cell_type": "code",
      "execution_count": null,
      "metadata": {
        "id": "TAe7byNYim2D"
      },
      "outputs": [],
      "source": [
        "from pycaret.datasets import get_data\n",
        "from pycaret.regression import *\n",
        "myDataSet = get_data(\"boston\", verbose = False)\n",
        "\n",
        "setup(data = myDataSet, target = 'medv',\n",
        "      transformation = True,\n",
        "      transformation_method = 'yeo-johnson',\n",
        "      verbose = False)\n",
        "\n",
        "cm = compare_models()\n",
        "\n",
        "# transformation_method = {yeo-johnson, quantile}"
      ]
    },
    {
      "cell_type": "markdown",
      "metadata": {
        "id": "9IIR2eMyim2E"
      },
      "source": [
        "---\n",
        "### **3.5 Model performance using \"PCA\"**\n",
        "---"
      ]
    },
    {
      "cell_type": "code",
      "execution_count": null,
      "metadata": {
        "id": "IbRChxn3im2E"
      },
      "outputs": [],
      "source": [
        "from pycaret.datasets import get_data\n",
        "from pycaret.regression import *\n",
        "myDataSet = get_data(\"boston\", verbose = False)\n",
        "\n",
        "setup(data = myDataSet, target = 'medv',\n",
        "      pca = True,\n",
        "      pca_method = 'linear',\n",
        "      verbose = False)\n",
        "\n",
        "cm = compare_models()\n",
        "\n",
        "# Re-run the code again for different parameters\n",
        "# pca_method = (linear, kernel, incremental)"
      ]
    },
    {
      "cell_type": "markdown",
      "metadata": {
        "id": "5KwCI6ZkAFMx"
      },
      "source": [
        "---\n",
        "### **3.6 Model performance using \"Outlier Removal\" + \"Normalization\"**\n",
        "---"
      ]
    },
    {
      "cell_type": "code",
      "execution_count": null,
      "metadata": {
        "id": "9XFmW3nyAFM2"
      },
      "outputs": [],
      "source": [
        "from pycaret.datasets import get_data\n",
        "from pycaret.regression import *\n",
        "myDataSet = get_data(\"boston\", verbose = False)\n",
        "\n",
        "setup(data = myDataSet, target = 'medv',\n",
        "      remove_outliers = True,\n",
        "      outliers_threshold = 0.05,\n",
        "      normalize = True,\n",
        "      normalize_method = 'zscore',\n",
        "      data_split_shuffle = False,\n",
        "      fold = 2,\n",
        "      verbose = False)\n",
        "\n",
        "cm = compare_models()\n",
        "\n",
        "\n",
        "# Question: Does order of the data preprocessing matters ???"
      ]
    },
    {
      "cell_type": "markdown",
      "metadata": {
        "id": "5Awx0XwltEvn"
      },
      "source": [
        "---\n",
        "### **3.7 Model performance using \"Outlier Removal\" +  \"Normalization\" + \"Transformation\"**\n",
        "---"
      ]
    },
    {
      "cell_type": "code",
      "execution_count": null,
      "metadata": {
        "id": "qoSbD33ktEvw"
      },
      "outputs": [],
      "source": [
        "from pycaret.datasets import get_data\n",
        "from pycaret.regression import *\n",
        "myDataSet = get_data(\"boston\", verbose = False)\n",
        "\n",
        "setup(data = myDataSet, target = 'medv',\n",
        "      remove_outliers = True,\n",
        "      outliers_threshold = 0.05,\n",
        "      normalize = True,\n",
        "      normalize_method = 'zscore',\n",
        "      transformation = True,\n",
        "      transformation_method = 'yeo-johnson',\n",
        "      data_split_shuffle = False,\n",
        "      fold = 2,\n",
        "      verbose = False)\n",
        "\n",
        "cm = compare_models()"
      ]
    },
    {
      "cell_type": "markdown",
      "metadata": {
        "id": "CvrwTU8iuLM6"
      },
      "source": [
        "---\n",
        "### **3.8 Explore more parameters of \"setup()\" on pycaret**\n",
        "---\n",
        "- Explore setup() paramaeters in **Step 1.3**\n",
        "- **<a href=\"https://pycaret.readthedocs.io/en/latest/api/regression.html\" target=\"_blank\"> Click Here</a>** for more (Right Click on the link and click on \"Open Link in New Window\")"
      ]
    },
    {
      "cell_type": "markdown",
      "metadata": {
        "id": "tiTcc636im2F"
      },
      "source": [
        "---\n",
        "# **4. Regression: More Operations**\n",
        "---\n",
        "### **4.1 Build a single model - \"RandomForest\"**"
      ]
    },
    {
      "cell_type": "code",
      "execution_count": null,
      "metadata": {
        "id": "DxkGGGthim2G"
      },
      "outputs": [],
      "source": [
        "from pycaret.datasets import get_data\n",
        "from pycaret.regression import *\n",
        "myDataSet = get_data(\"boston\", verbose = False)\n",
        "\n",
        "setup(data =  myDataSet, target = 'medv', verbose = False)\n",
        "\n",
        "rfModel = create_model('rf')\n",
        "# Explore more parameters"
      ]
    },
    {
      "cell_type": "markdown",
      "metadata": {
        "id": "6zi9OUp0im2G"
      },
      "source": [
        "---\n",
        "### **4.2 Other available regression models**\n",
        "---\n",
        "-\t'ada' - AdaBoost Regressor\n",
        "-\t'br' - Bayesian Ridge\n",
        "-\t'dt' - Decision Tree Regressor\n",
        "-\t'en'\t- Elastic Net\n",
        "-\t'et' - Extra Trees Regressor\n",
        "-\t'gbr' - Gradient Boosting Regressor\n",
        "-\t'huber' - Huber Regressor\n",
        "-\t'knn' - K Neighbors Regressor\n",
        "-\t'llar' - Lasso Least Angle Regression\n",
        "-\t'lasso' - Lasso Regression\n",
        "-\t'lar' - Least Angle Regression\n",
        "-\t'lightgbm'\t- Light Gradient Boosting Machine\n",
        "-\t'lr' - Linear Regression\n",
        "-\t'omp' - Orthogonal Matching Pursuit\n",
        "-\t'par' - Passive Aggressive Regressor\n",
        "-\t'rf' - Random Forest Regressor\n",
        "-\t'ridge' - Ridge Regression"
      ]
    },
    {
      "cell_type": "markdown",
      "metadata": {
        "id": "SOgkFMblyyhB"
      },
      "source": [
        "---\n",
        "### **4.3 Explore more parameters of \"create_model()\" on pycaret**\n",
        "---\n",
        "\n",
        "**<a href=\"https://pycaret.readthedocs.io/en/latest/api/regression.html#pycaret.regression.create_model\" target=\"_blank\"> Click Here</a>**"
      ]
    },
    {
      "cell_type": "markdown",
      "metadata": {
        "id": "bbQmlQYcim2L"
      },
      "source": [
        "---\n",
        "### **4.4 Make prediction on the \"new unseen dataset\"**\n",
        "---\n",
        "#### **Get the \"new unseen dataset\"**\n",
        "\n"
      ]
    },
    {
      "cell_type": "code",
      "execution_count": null,
      "metadata": {
        "id": "ukwXEWlAim2O"
      },
      "outputs": [],
      "source": [
        "# Select top 10 rows from boston dataset\n",
        "newDataSet = get_data(\"boston\").iloc[:10]"
      ]
    },
    {
      "cell_type": "markdown",
      "metadata": {
        "id": "lL8CWgH3im2P"
      },
      "source": [
        "#### **Make prediction on \"new unseen dataset\"**"
      ]
    },
    {
      "cell_type": "code",
      "execution_count": null,
      "metadata": {
        "id": "Nk-dR5Fhim2P"
      },
      "outputs": [],
      "source": [
        "newPredictions = predict_model(rfModel, data = newDataSet)\n",
        "newPredictions"
      ]
    },
    {
      "cell_type": "markdown",
      "metadata": {
        "id": "a4TVz1fVim2Q"
      },
      "source": [
        "---\n",
        "### **4.5 \"Scatter plot\" b/w actual and predicted**\n",
        "---"
      ]
    },
    {
      "cell_type": "code",
      "execution_count": null,
      "metadata": {
        "id": "WFhRhiM0im2Q"
      },
      "outputs": [],
      "source": [
        "import matplotlib.pyplot as plt\n",
        "\n",
        "predicted = newPredictions.iloc[:,-1]     # Last column\n",
        "actual = newPredictions.iloc[:,-2]        # 2nd last column\n",
        "\n",
        "plt.scatter(actual, predicted)\n",
        "plt.xlabel('Predicted')\n",
        "plt.ylabel('Actual')\n",
        "plt.title('Actul Vs Predicted')\n",
        "plt.savefig(\"result-scatter-plot.jpg\", dpi = 300)\n",
        "plt.show()"
      ]
    },
    {
      "cell_type": "markdown",
      "metadata": {
        "id": "McwAM2j7im2R"
      },
      "source": [
        "---\n",
        "### **4.6 \"Save\" the prediction result**\n",
        "---"
      ]
    },
    {
      "cell_type": "code",
      "execution_count": null,
      "metadata": {
        "id": "-RXICkjAim2R"
      },
      "outputs": [],
      "source": [
        "from google.colab import files\n",
        "\n",
        "newPredictions.to_csv(\"NewPredictions.csv\", index = False)       # Uncomment and run again"
      ]
    },
    {
      "cell_type": "markdown",
      "metadata": {
        "id": "dk9htsA9im2H"
      },
      "source": [
        "---\n",
        "### **4.7 \"Save\" the trained model**\n",
        "---"
      ]
    },
    {
      "cell_type": "code",
      "execution_count": null,
      "metadata": {
        "id": "997MLzZGim2H"
      },
      "outputs": [],
      "source": [
        "sm = save_model(rfModel, 'rfModelFile')      # Uncomment and run again"
      ]
    },
    {
      "cell_type": "markdown",
      "metadata": {
        "id": "MZHQ7kF2im2I"
      },
      "source": [
        "---\n",
        "### **4.8  \"Upload the trained model\" --> \"Load the model\"  --> \"Make the prediction\" on \"new unseen dataset\"**\n",
        "---\n",
        "### **4.8.1 Upload the  \"Trained Model\"**\n"
      ]
    },
    {
      "cell_type": "code",
      "execution_count": null,
      "metadata": {
        "id": "n7Ksv1Z2rCQc"
      },
      "outputs": [],
      "source": [
        "# Upload the trained model rfModelFile.pkl in the colab"
      ]
    },
    {
      "cell_type": "markdown",
      "metadata": {
        "id": "MVGmLPxpMHF1"
      },
      "source": [
        "---\n",
        "### **4.8.2 Load the \"Model\"**\n",
        "---"
      ]
    },
    {
      "cell_type": "code",
      "execution_count": null,
      "metadata": {
        "id": "q15mq4tcim2J"
      },
      "outputs": [],
      "source": [
        "#rfModel = load_model('rfModelFile') # Uncomment and run again"
      ]
    },
    {
      "cell_type": "markdown",
      "metadata": {
        "id": "Br8cNWiaMf0P"
      },
      "source": [
        "---\n",
        "### **4.8.3 Make the prediction on \"new unseen dataset\"**\n",
        "---"
      ]
    },
    {
      "cell_type": "code",
      "execution_count": null,
      "metadata": {
        "id": "ymYG7gs8Mf0Q"
      },
      "outputs": [],
      "source": [
        "#newPredictions = predict_model(rfModel, data = newDataSet)    # Uncomment and run again\n",
        "#newPredictions            # Uncomment and run again"
      ]
    },
    {
      "cell_type": "markdown",
      "metadata": {
        "id": "tvnzKUXKim2R"
      },
      "source": [
        "---\n",
        "# **5. Plot the trained model**\n",
        "---\n",
        "**Following parameters can be plot for a trained model**\n",
        "\n",
        "- Prediction Error Plot    - 'error'\n",
        "- Learning Curve           - 'learning'\n",
        "- Validation Curve         - 'vc'\n",
        "- Feature Importance       - 'feature'\n",
        "- Model Hyperparameter     - 'parameter'"
      ]
    },
    {
      "cell_type": "markdown",
      "metadata": {
        "id": "3V830Svhim2R"
      },
      "source": [
        "---\n",
        "### **5.1 Create RandomForest model or any other model**\n",
        "---"
      ]
    },
    {
      "cell_type": "code",
      "execution_count": null,
      "metadata": {
        "id": "H0c__zBjim2S"
      },
      "outputs": [],
      "source": [
        "rfModel = create_model('rf')"
      ]
    },
    {
      "cell_type": "markdown",
      "metadata": {
        "id": "-RuUMIm2im2S"
      },
      "source": [
        "---\n",
        "### **5.2 Plot the \"error\"**\n",
        "---"
      ]
    },
    {
      "cell_type": "code",
      "execution_count": null,
      "metadata": {
        "id": "cDcFbCCGim2T"
      },
      "outputs": [],
      "source": [
        "plot_model(rfModel, plot='error')"
      ]
    },
    {
      "cell_type": "markdown",
      "metadata": {
        "id": "tTHlyeJFim2U"
      },
      "source": [
        "---\n",
        "### **5.3 Plot the \"learning curve\"**\n",
        "---"
      ]
    },
    {
      "cell_type": "code",
      "execution_count": null,
      "metadata": {
        "id": "AArgjedYim2U"
      },
      "outputs": [],
      "source": [
        "plot_model(rfModel, plot='learning')"
      ]
    },
    {
      "cell_type": "markdown",
      "metadata": {
        "id": "OXdNdg6I-0T3"
      },
      "source": [
        "---\n",
        "### **5.4 Plot the \"validation curve\"**\n",
        "---"
      ]
    },
    {
      "cell_type": "code",
      "execution_count": null,
      "metadata": {
        "id": "Xicye76Bim2V"
      },
      "outputs": [],
      "source": [
        "plot_model(rfModel, plot='vc')"
      ]
    },
    {
      "cell_type": "markdown",
      "metadata": {
        "id": "eUXaDeoL4mlw"
      },
      "source": [
        "---\n",
        "### **5.5 Get the model \"parameters\"**\n",
        "---"
      ]
    },
    {
      "cell_type": "code",
      "execution_count": null,
      "metadata": {
        "id": "GpfVxNKA4ml3"
      },
      "outputs": [],
      "source": [
        "plot_model(rfModel, plot='parameter')"
      ]
    },
    {
      "cell_type": "markdown",
      "metadata": {
        "id": "A8EhMMY7tL15"
      },
      "source": [
        "---\n",
        "### **5.6 Explore the more parameters of \"plot_model()\" on pycaret**\n",
        "---\n",
        "**<a href=\"https://pycaret.readthedocs.io/en/latest/api/regression.html#pycaret.regression.plot_model\" target=\"_blank\"> Click Here </a>**"
      ]
    },
    {
      "cell_type": "markdown",
      "metadata": {
        "id": "AsVAOsgc_LbO"
      },
      "source": [
        "---\n",
        "# **6. Feature Importance**\n",
        "---\n",
        "### **6.1 Feature Importance using \"Random Forest\"**\n"
      ]
    },
    {
      "cell_type": "code",
      "execution_count": null,
      "metadata": {
        "id": "f9OQ4GiGim2W"
      },
      "outputs": [],
      "source": [
        "rfModel = create_model('rf', verbose=False)\n",
        "plot_model(rfModel, plot='feature')"
      ]
    },
    {
      "cell_type": "markdown",
      "metadata": {
        "id": "bAQByaGaim2X"
      },
      "source": [
        "---\n",
        "### **6.2 Feature Importance using \"Extra Trees Regressor\"**\n",
        "---"
      ]
    },
    {
      "cell_type": "code",
      "execution_count": null,
      "metadata": {
        "id": "H1gfOY8tim2X"
      },
      "outputs": [],
      "source": [
        "etModel = create_model('et', verbose=False)\n",
        "plot_model(etModel, plot='feature')"
      ]
    },
    {
      "cell_type": "markdown",
      "metadata": {
        "id": "3SrR7evnim2X"
      },
      "source": [
        "---\n",
        "### **6.3 Feature Importance using \"Decision Tree\"**\n",
        "---"
      ]
    },
    {
      "cell_type": "code",
      "execution_count": null,
      "metadata": {
        "id": "XJFxiIhUim2X"
      },
      "outputs": [],
      "source": [
        "dtModel = create_model('dt', verbose=False)\n",
        "plot_model(dtModel, plot='feature')"
      ]
    },
    {
      "cell_type": "markdown",
      "metadata": {
        "id": "eoYnuzrcLDx4"
      },
      "source": [
        "---\n",
        "# **7. Tune/Optimize the model performance**\n",
        "---\n",
        "### **7.1 Train \"Decision Tree\" with default parameters**\n"
      ]
    },
    {
      "cell_type": "code",
      "execution_count": null,
      "metadata": {
        "id": "itaCP4yPLDx-"
      },
      "outputs": [],
      "source": [
        "dtModel = create_model('dt')"
      ]
    },
    {
      "cell_type": "markdown",
      "metadata": {
        "id": "KBWk2aKyLDyA"
      },
      "source": [
        "#### **Get the \"parameters\" of Decision Tree**"
      ]
    },
    {
      "cell_type": "code",
      "execution_count": null,
      "metadata": {
        "id": "Je3ABt9cLDyC"
      },
      "outputs": [],
      "source": [
        "plot_model(dtModel, plot = 'parameter')"
      ]
    },
    {
      "cell_type": "markdown",
      "metadata": {
        "id": "W0TsqU0QLDyD"
      },
      "source": [
        "---\n",
        "### **7.2 Tune \"Decision Tree\" model**\n",
        "---"
      ]
    },
    {
      "cell_type": "code",
      "execution_count": null,
      "metadata": {
        "id": "ugxaxz0oLDyE"
      },
      "outputs": [],
      "source": [
        "dtModelTuned = tune_model(dtModel, n_iter = 50)"
      ]
    },
    {
      "cell_type": "markdown",
      "metadata": {
        "id": "khusRJwOQc0K"
      },
      "source": [
        "#### **Get the \"tuned parameters\" of Decision Tree**"
      ]
    },
    {
      "cell_type": "code",
      "execution_count": null,
      "metadata": {
        "id": "1x3FC2eeQc0L"
      },
      "outputs": [],
      "source": [
        "plot_model(dtModelTuned, plot = 'parameter')"
      ]
    },
    {
      "cell_type": "markdown",
      "metadata": {
        "id": "FPtPrnT-Q-z1"
      },
      "source": [
        "---\n",
        "### **7.3 Explore more parameters of \"tune_model()\" on pycaret**\n",
        "---\n",
        "**<a href=\"https://pycaret.readthedocs.io/en/latest/api/regression.html#pycaret.regression.tune_model\" target=\"_blank\"> Click Here </a>**"
      ]
    },
    {
      "cell_type": "markdown",
      "metadata": {
        "id": "hICikRsyim2Z"
      },
      "source": [
        "---\n",
        "# **8. AutoML - Advanced Machine Learning**\n",
        "---\n",
        "\n",
        "- Select n Best Models:\n",
        "  - Ensemble, Stacking, Begging, Blending\n",
        "  - Auto tune the best n models\n",
        "\n",
        "**<a href=\"https://pycaret.readthedocs.io/en/latest/api/regression.html#pycaret.regression.automl\" target=\"_blank\">Click Here</a>**\n"
      ]
    },
    {
      "cell_type": "markdown",
      "metadata": {
        "id": "UgDkSm_VP5Hy"
      },
      "source": [
        "---\n",
        "# **9. Deploy the model on AWS / Azure**\n",
        "---\n",
        "**<a href=\"https://pycaret.readthedocs.io/en/latest/api/regression.html#pycaret.regression.deploy_model\" target=\"_blank\">Click Here</a>**\n"
      ]
    }
  ],
  "metadata": {
    "colab": {
      "provenance": [],
      "include_colab_link": true
    },
    "kernelspec": {
      "display_name": "Python 3",
      "language": "python",
      "name": "python3"
    },
    "language_info": {
      "codemirror_mode": {
        "name": "ipython",
        "version": 3
      },
      "file_extension": ".py",
      "mimetype": "text/x-python",
      "name": "python",
      "nbconvert_exporter": "python",
      "pygments_lexer": "ipython3",
      "version": "3.8.5"
    }
  },
  "nbformat": 4,
  "nbformat_minor": 0
}