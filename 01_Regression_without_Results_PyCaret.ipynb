{
  "nbformat": 4,
  "nbformat_minor": 0,
  "metadata": {
    "colab": {
      "provenance": [],
      "include_colab_link": true
    },
    "kernelspec": {
      "display_name": "Python 3",
      "language": "python",
      "name": "python3"
    },
    "language_info": {
      "codemirror_mode": {
        "name": "ipython",
        "version": 3
      },
      "file_extension": ".py",
      "mimetype": "text/x-python",
      "name": "python",
      "nbconvert_exporter": "python",
      "pygments_lexer": "ipython3",
      "version": "3.8.5"
    }
  },
  "cells": [
    {
      "cell_type": "markdown",
      "metadata": {
        "id": "view-in-github",
        "colab_type": "text"
      },
      "source": [
        "<a href=\"https://colab.research.google.com/github/psrana/Machine-Learning-using-PyCaret/blob/main/01_Regression_without_Results_PyCaret.ipynb\" target=\"_parent\"><img src=\"https://colab.research.google.com/assets/colab-badge.svg\" alt=\"Open In Colab\"/></a>"
      ]
    },
    {
      "cell_type": "markdown",
      "metadata": {
        "id": "7nQSRI4Dim1Y"
      },
      "source": [
        "---\n",
        "# **PyCaret for Regression**\n",
        "---\n",
        "- It is a bundle of many Machine Learning algorithms.\n",
        "- Only three lines of code is required to compare 20 ML models.\n",
        "- Pycaret is available for:\n",
        "    - Classification\n",
        "    - Regression\n",
        "    - Clustering\n",
        "---\n",
        "\n",
        "### **Self learning resource**\n",
        "1. Tutorial on Pycaret **<a href=\"https://pycaret.readthedocs.io/en/latest/tutorials.html\" target=\"_blank\"> Click Here</a>**\n",
        "\n",
        "2. Documentation on Pycaret-Regression: **<a href=\"https://pycaret.readthedocs.io/en/latest/api/regression.html\" target=\"_blank\"> Click Here </a>**\n",
        "\n",
        "---\n",
        "\n",
        "### **In this tutorial we will learn:**\n",
        "\n",
        "- Getting Data\n",
        "- Setting up Environment\n",
        "- Create Model\n",
        "- Tune Model\n",
        "- Plot Model\n",
        "- Finalize Model\n",
        "- Predict Model\n",
        "- Save / Load Model\n",
        "---\n",
        "\n"
      ]
    },
    {
      "cell_type": "markdown",
      "metadata": {
        "id": "A30y-VtNim1h"
      },
      "source": [
        "### **(a) Install Pycaret**"
      ]
    },
    {
      "cell_type": "code",
      "metadata": {
        "id": "cF_mSA9Xim1j"
      },
      "source": [
        "!pip install pycaret &> /dev/null\n",
        "print (\"Pycaret installed sucessfully!!\")"
      ],
      "execution_count": null,
      "outputs": []
    },
    {
      "cell_type": "markdown",
      "metadata": {
        "id": "UjvBYy0Lim1m"
      },
      "source": [
        "### **(b) Get the version of the pycaret**"
      ]
    },
    {
      "cell_type": "code",
      "metadata": {
        "id": "NHB2KMhZim1o"
      },
      "source": [
        "from pycaret.utils import version\n",
        "version()"
      ],
      "execution_count": null,
      "outputs": []
    },
    {
      "cell_type": "markdown",
      "metadata": {
        "id": "BTLd3s--im1c"
      },
      "source": [
        "---\n",
        "# **1. Regression: Basics**\n",
        "---\n",
        "### **1.1 Get the list of datasets available in pycaret (Total Datasets = 55)**\n",
        "\n",
        "\n"
      ]
    },
    {
      "cell_type": "code",
      "metadata": {
        "id": "veBU-f21im1x"
      },
      "source": [
        "from pycaret.datasets import get_data\n",
        "dataSets = get_data('index')"
      ],
      "execution_count": null,
      "outputs": []
    },
    {
      "cell_type": "markdown",
      "metadata": {
        "id": "nRWYsJNVim1z"
      },
      "source": [
        "---\n",
        "### **1.2 Get the \"boston\" dataset (Step-I)**\n",
        "---"
      ]
    },
    {
      "cell_type": "code",
      "metadata": {
        "id": "41abL1k-im10",
        "scrolled": true
      },
      "source": [
        "bostonDataSet = get_data(\"boston\")    # SN is 46"
      ],
      "execution_count": null,
      "outputs": []
    },
    {
      "cell_type": "markdown",
      "metadata": {
        "id": "E3BNV7YLim12"
      },
      "source": [
        "---\n",
        "### **1.3 Parameter setting for all models (Step-II)**\n",
        "---"
      ]
    },
    {
      "cell_type": "code",
      "metadata": {
        "id": "c6KthRB9im14"
      },
      "source": [
        "from pycaret.regression import *\n",
        "s = setup(data =  bostonDataSet, target='medv')\n",
        "\n",
        "# Other Parameters:\n",
        "# train_size = 0.7\n",
        "# data_split_shuffle = False"
      ],
      "execution_count": null,
      "outputs": []
    },
    {
      "cell_type": "markdown",
      "metadata": {
        "id": "Kaevs6ROim18"
      },
      "source": [
        "---\n",
        "### **1.4 Run all models (Step-III)**\n",
        "---"
      ]
    },
    {
      "cell_type": "code",
      "metadata": {
        "id": "XmPJbrOXim19"
      },
      "source": [
        "cm = compare_models()"
      ],
      "execution_count": null,
      "outputs": []
    },
    {
      "cell_type": "markdown",
      "metadata": {
        "id": "w8BLSpegim1_"
      },
      "source": [
        "---\n",
        "### **1.5 \"Three line of code\" for model comparison for \"Boston\" dataset**\n",
        "---\n",
        "\n"
      ]
    },
    {
      "cell_type": "code",
      "metadata": {
        "id": "QPY6bvTsim1_"
      },
      "source": [
        "from pickle import TRUE\n",
        "from pycaret.datasets import get_data\n",
        "from pycaret.regression import *\n",
        "\n",
        "bostonDataSet = get_data(\"boston\", verbose=False)\n",
        "setup(data = bostonDataSet, target='medv', verbose=False, train_size = 0.7, data_split_shuffle = False)\n",
        "cm = compare_models()"
      ],
      "execution_count": null,
      "outputs": []
    },
    {
      "cell_type": "markdown",
      "metadata": {
        "id": "3Ij2kL4zoMG4"
      },
      "source": [
        "---\n",
        "### **1.6 \"Three line of code\" for model comparison for \"Insurance\" dataset**\n",
        "---\n",
        "\n"
      ]
    },
    {
      "cell_type": "code",
      "metadata": {
        "id": "MnJrgvdkoMG9"
      },
      "source": [
        "from pycaret.datasets import get_data\n",
        "from pycaret.regression import *\n",
        "\n",
        "insuranceDataSet = get_data(\"insurance\", verbose=False)\n",
        "setup(data = insuranceDataSet, target='charges', verbose=False, data_split_shuffle = False)\n",
        "cm = compare_models()"
      ],
      "execution_count": null,
      "outputs": []
    },
    {
      "cell_type": "markdown",
      "metadata": {
        "id": "9GWuAHd7xQ8i"
      },
      "source": [
        "---\n",
        "# **2. Regression: working with user dataset**\n",
        "---\n"
      ]
    },
    {
      "cell_type": "code",
      "metadata": {
        "id": "6ztv-AJdmhcf",
        "scrolled": true
      },
      "source": [
        "from pycaret.regression import *\n",
        "import pandas as pd\n",
        "\n",
        "# First upload the user file (myData.csv) in the colab\n",
        "\n",
        "# myDataSet = pd.read_csv(\"/content/bostonDataSet.csv\")        # Uncomment and execute\n",
        "# s = setup(data = myDataSet, target='medv', verbose=False)    # Uncomment and execute\n",
        "# cm = compare_models()                                        # Uncomment and execute"
      ],
      "execution_count": null,
      "outputs": []
    },
    {
      "cell_type": "markdown",
      "metadata": {
        "id": "zUfHO4wKim1_"
      },
      "source": [
        "---\n",
        "# **3. Regression: Apply \"Data Preprocessing\"**\n",
        "---\n",
        "\n",
        "### **3.1 Model performance using \"Normalization\"**"
      ]
    },
    {
      "cell_type": "code",
      "metadata": {
        "id": "Atd6jNvmim2A"
      },
      "source": [
        "setup(data = bostonDataSet, target = 'medv',\n",
        "      normalize = True, normalize_method = 'zscore', verbose=False, data_split_shuffle = False)\n",
        "cm = compare_models()\n",
        "\n",
        "# Re-run the code again for different parameters\n",
        "# normalize_method = {zscore, minmax, maxabs, robust}"
      ],
      "execution_count": null,
      "outputs": []
    },
    {
      "cell_type": "markdown",
      "source": [
        "---\n",
        "####**Explore more parameters of \"setup()\" on pycaret**\n",
        "---\n",
        "- Explore setup() paramaeters in **Step 1.3**\n",
        "- **<a href=\"https://pycaret.readthedocs.io/en/latest/api/regression.html\" target=\"_blank\"> Click Here</a>** for more"
      ],
      "metadata": {
        "id": "Nf8L2_EnRyKX"
      }
    },
    {
      "cell_type": "markdown",
      "metadata": {
        "id": "oWMPU3KMim2B"
      },
      "source": [
        "---\n",
        "### **3.2 Model performance using \"Feature Selection\"**\n",
        "---"
      ]
    },
    {
      "cell_type": "code",
      "metadata": {
        "id": "43l42fj_im2C"
      },
      "source": [
        "setup(data = bostonDataSet, target = 'medv',\n",
        "      feature_selection = True, feature_selection_method = 'classic',\n",
        "      n_features_to_select = 0.2, verbose=False, data_split_shuffle = False)\n",
        "cm = compare_models()\n",
        "\n",
        "\n",
        "# Re-run the code again for different parameters\n",
        "# feature_selection_method = {classic, univariate, sequential}\n",
        "# n_features_to_select = {0.1, 0.2, 0.3, 0.4, 0.5, ..... }"
      ],
      "execution_count": null,
      "outputs": []
    },
    {
      "cell_type": "markdown",
      "metadata": {
        "id": "kt034D2wim2C"
      },
      "source": [
        "---\n",
        "### **3.3 Model performance using \"Outlier Removal\"**\n",
        "---"
      ]
    },
    {
      "cell_type": "code",
      "metadata": {
        "id": "oAaDhJctim2D"
      },
      "source": [
        "setup(data = bostonDataSet, target = 'medv',\n",
        "      remove_outliers = True, outliers_method = \"iforest\", outliers_threshold = 0.05,\n",
        "      verbose=False, data_split_shuffle = False)\n",
        "cm = compare_models()\n",
        "\n",
        "# Re-run the code again for different parameters\n",
        "# outliers_threshold = {0.04, 0.05, 0.06, 0.07, 0.08, ....}\n",
        "# outliers_method = {iforest, ee, lof}"
      ],
      "execution_count": null,
      "outputs": []
    },
    {
      "cell_type": "markdown",
      "metadata": {
        "id": "Tp1zLWiFim2D"
      },
      "source": [
        "---\n",
        "### **3.4 Model performance using \"Transformation\"**\n",
        "---"
      ]
    },
    {
      "cell_type": "code",
      "metadata": {
        "id": "TAe7byNYim2D"
      },
      "source": [
        "setup(data = bostonDataSet, target = 'medv',\n",
        "      transformation = True, transformation_method = 'yeo-johnson',\n",
        "      verbose=False, data_split_shuffle = False)\n",
        "cm = compare_models()"
      ],
      "execution_count": null,
      "outputs": []
    },
    {
      "cell_type": "markdown",
      "metadata": {
        "id": "9IIR2eMyim2E"
      },
      "source": [
        "---\n",
        "### **3.5 Model performance using \"PCA\"**\n",
        "---"
      ]
    },
    {
      "cell_type": "code",
      "metadata": {
        "id": "IbRChxn3im2E"
      },
      "source": [
        "setup(data = bostonDataSet, target = 'medv',\n",
        "      pca = True, pca_method = 'linear', verbose=False, data_split_shuffle = False)\n",
        "cm = compare_models()\n",
        "\n",
        "# Re-run the code again for different parameters\n",
        "# pca_method = (linear, kernel, incremental)"
      ],
      "execution_count": null,
      "outputs": []
    },
    {
      "cell_type": "markdown",
      "metadata": {
        "id": "5KwCI6ZkAFMx"
      },
      "source": [
        "---\n",
        "### **3.6 Model performance using \"Outlier Removal\" + \"Normalization\"**\n",
        "---"
      ]
    },
    {
      "cell_type": "code",
      "metadata": {
        "id": "9XFmW3nyAFM2"
      },
      "source": [
        "setup(data = bostonDataSet, target = 'medv',\n",
        "      remove_outliers = True, outliers_threshold = 0.05,\n",
        "      normalize = True, normalize_method = 'zscore', verbose=False, data_split_shuffle = False)\n",
        "cm = compare_models()"
      ],
      "execution_count": null,
      "outputs": []
    },
    {
      "cell_type": "markdown",
      "metadata": {
        "id": "5Awx0XwltEvn"
      },
      "source": [
        "---\n",
        "### **3.7 Model performance using \"Outlier Removal\" +  \"Normalization\" + \"Transformation\"**\n",
        "---"
      ]
    },
    {
      "cell_type": "code",
      "metadata": {
        "id": "qoSbD33ktEvw"
      },
      "source": [
        "setup(data = bostonDataSet, target = 'medv',\n",
        "      remove_outliers = True, outliers_threshold = 0.05,\n",
        "      normalize = True, normalize_method = 'zscore',\n",
        "      transformation = True, transformation_method = 'yeo-johnson',\n",
        "      verbose=False, data_split_shuffle = False)\n",
        "cm = compare_models()"
      ],
      "execution_count": null,
      "outputs": []
    },
    {
      "cell_type": "markdown",
      "metadata": {
        "id": "CvrwTU8iuLM6"
      },
      "source": [
        "---\n",
        "### **3.8 Explore more parameters of \"setup()\" on pycaret**\n",
        "---\n",
        "- Explore setup() paramaeters in **Step 1.3**\n",
        "- **<a href=\"https://pycaret.readthedocs.io/en/latest/api/regression.html\" target=\"_blank\"> Click Here</a>** for more"
      ]
    },
    {
      "cell_type": "markdown",
      "metadata": {
        "id": "tiTcc636im2F"
      },
      "source": [
        "---\n",
        "# **4. Regression: More Operations**\n",
        "---\n",
        "### **4.1 Build a single model - \"RandomForest\"**"
      ]
    },
    {
      "cell_type": "code",
      "metadata": {
        "id": "DxkGGGthim2G"
      },
      "source": [
        "from pycaret.datasets import get_data\n",
        "from pycaret.regression import *\n",
        "\n",
        "bostonDataSet = get_data(\"boston\", verbose=False)    # SN is 46\n",
        "setup(data =  bostonDataSet, target='medv', verbose=False)\n",
        "\n",
        "rfModel = create_model('rf')\n",
        "# Explore more parameters"
      ],
      "execution_count": null,
      "outputs": []
    },
    {
      "cell_type": "markdown",
      "metadata": {
        "id": "6zi9OUp0im2G"
      },
      "source": [
        "---\n",
        "### **4.2 Other available regression models**\n",
        "---\n",
        "-\t'ada' - AdaBoost Regressor\n",
        "-\t'br' - Bayesian Ridge\n",
        "-\t'dt' - Decision Tree Regressor\n",
        "-\t'en'\t- Elastic Net\n",
        "-\t'et' - Extra Trees Regressor\n",
        "-\t'gbr' - Gradient Boosting Regressor\n",
        "-\t'huber' - Huber Regressor\n",
        "-\t'knn' - K Neighbors Regressor\n",
        "-\t'llar' - Lasso Least Angle Regression\n",
        "-\t'lasso' - Lasso Regression\n",
        "-\t'lar' - Least Angle Regression\n",
        "-\t'lightgbm'\t- Light Gradient Boosting Machine\n",
        "-\t'lr' - Linear Regression\n",
        "-\t'omp' - Orthogonal Matching Pursuit\n",
        "-\t'par' - Passive Aggressive Regressor\n",
        "-\t'rf' - Random Forest Regressor\n",
        "-\t'ridge' - Ridge Regression"
      ]
    },
    {
      "cell_type": "markdown",
      "metadata": {
        "id": "SOgkFMblyyhB"
      },
      "source": [
        "---\n",
        "### **4.3 Explore more parameters of \"create_model()\" on pycaret**\n",
        "---\n",
        "\n",
        "**<a href=\"https://pycaret.readthedocs.io/en/latest/api/regression.html#pycaret.regression.create_model\" target=\"_blank\"> Click Here</a>**"
      ]
    },
    {
      "cell_type": "markdown",
      "metadata": {
        "id": "bbQmlQYcim2L"
      },
      "source": [
        "---\n",
        "### **4.4 Make prediction on the \"new unseen dataset\"**\n",
        "---\n",
        "#### **Get the \"new unseen dataset\"**\n",
        "\n"
      ]
    },
    {
      "cell_type": "code",
      "metadata": {
        "id": "ukwXEWlAim2O"
      },
      "source": [
        "# Select top 10 rows from boston dataset\n",
        "newDataSet = get_data(\"boston\").iloc[:10]"
      ],
      "execution_count": null,
      "outputs": []
    },
    {
      "cell_type": "markdown",
      "metadata": {
        "id": "lL8CWgH3im2P"
      },
      "source": [
        "#### **Make prediction on \"new unseen dataset\"**"
      ]
    },
    {
      "cell_type": "code",
      "metadata": {
        "id": "Nk-dR5Fhim2P"
      },
      "source": [
        "newPredictions = predict_model(rfModel, data = newDataSet)\n",
        "newPredictions"
      ],
      "execution_count": null,
      "outputs": []
    },
    {
      "cell_type": "markdown",
      "metadata": {
        "id": "a4TVz1fVim2Q"
      },
      "source": [
        "---\n",
        "### **4.5 \"Scatter plot\" b/w actual and predicted**\n",
        "---"
      ]
    },
    {
      "cell_type": "code",
      "metadata": {
        "id": "WFhRhiM0im2Q"
      },
      "source": [
        "import matplotlib.pyplot as plt\n",
        "\n",
        "predicted = newPredictions.iloc[:,-1]     # Last column\n",
        "actual = newPredictions.iloc[:,-2]        # 2nd last column\n",
        "\n",
        "plt.scatter(actual, predicted)\n",
        "plt.xlabel('Predicted')\n",
        "plt.ylabel('Actual')\n",
        "plt.title('Actul Vs Predicted')\n",
        "plt.savefig(\"result-scatter-plot.jpg\", dpi=300)\n",
        "plt.show()"
      ],
      "execution_count": null,
      "outputs": []
    },
    {
      "cell_type": "markdown",
      "metadata": {
        "id": "kCEM05BJunzf"
      },
      "source": [
        "---\n",
        "### **4.6 Download the \"Scatter plot\"**\n",
        "---"
      ]
    },
    {
      "cell_type": "code",
      "metadata": {
        "id": "UKz38aCgunzh"
      },
      "source": [
        "from google.colab import files\n",
        "files.download('result-scatter-plot.jpg')"
      ],
      "execution_count": null,
      "outputs": []
    },
    {
      "cell_type": "markdown",
      "metadata": {
        "id": "McwAM2j7im2R"
      },
      "source": [
        "---\n",
        "### **4.7 \"Save\" and \"Download\" the prediction result**\n",
        "---"
      ]
    },
    {
      "cell_type": "code",
      "metadata": {
        "id": "-RXICkjAim2R"
      },
      "source": [
        "from google.colab import files\n",
        "\n",
        "newPredictions.to_csv(\"NewPredictions.csv\", index=False)\n",
        "files.download('NewPredictions.csv')"
      ],
      "execution_count": null,
      "outputs": []
    },
    {
      "cell_type": "markdown",
      "metadata": {
        "id": "dk9htsA9im2H"
      },
      "source": [
        "---\n",
        "### **4.8 \"Save\" the trained model**\n",
        "---"
      ]
    },
    {
      "cell_type": "code",
      "metadata": {
        "id": "997MLzZGim2H"
      },
      "source": [
        "sm = save_model(rfModel, 'rfModelFile')"
      ],
      "execution_count": null,
      "outputs": []
    },
    {
      "cell_type": "markdown",
      "metadata": {
        "id": "lrbcsSdhAJOz"
      },
      "source": [
        "---\n",
        "### **4.9 Download the \"trained model file\" to user local system**\n",
        "---"
      ]
    },
    {
      "cell_type": "code",
      "metadata": {
        "id": "gDweanHp_DXB"
      },
      "source": [
        "from google.colab import files\n",
        "files.download('rfModelFile.pkl')"
      ],
      "execution_count": null,
      "outputs": []
    },
    {
      "cell_type": "markdown",
      "metadata": {
        "id": "MZHQ7kF2im2I"
      },
      "source": [
        "---\n",
        "### **4.10  \"Upload the trained model\" --> \"Load the model\"  --> \"Make the prediction\" on \"new unseen dataset\"**\n",
        "---\n",
        "### **4.10.1 Upload the  \"Trained Model\"**\n"
      ]
    },
    {
      "cell_type": "code",
      "source": [
        "from google.colab import files\n",
        "files.upload()"
      ],
      "metadata": {
        "id": "n7Ksv1Z2rCQc"
      },
      "execution_count": null,
      "outputs": []
    },
    {
      "cell_type": "markdown",
      "metadata": {
        "id": "MVGmLPxpMHF1"
      },
      "source": [
        "---\n",
        "### **4.10.2 Load the \"Model\"**\n",
        "---"
      ]
    },
    {
      "cell_type": "code",
      "metadata": {
        "id": "q15mq4tcim2J"
      },
      "source": [
        "rfModel = load_model('rfModelFile (1)')"
      ],
      "execution_count": null,
      "outputs": []
    },
    {
      "cell_type": "markdown",
      "metadata": {
        "id": "Br8cNWiaMf0P"
      },
      "source": [
        "---\n",
        "### **4.10.3 Make the prediction on \"new unseen dataset\"**\n",
        "---"
      ]
    },
    {
      "cell_type": "code",
      "metadata": {
        "id": "ymYG7gs8Mf0Q"
      },
      "source": [
        "newPredictions = predict_model(rfModel, data = newDataSet)\n",
        "newPredictions"
      ],
      "execution_count": null,
      "outputs": []
    },
    {
      "cell_type": "markdown",
      "metadata": {
        "id": "tvnzKUXKim2R"
      },
      "source": [
        "---\n",
        "# **5. Plot the trained model**\n",
        "---\n",
        "**Following parameters can be plot for a trained model**\n",
        "\n",
        "- Prediction Error Plot    - 'error'\n",
        "- Learning Curve           - 'learning'\n",
        "- Validation Curve         - 'vc'\n",
        "- Feature Importance       - 'feature'\n",
        "- Model Hyperparameter     - 'parameter'"
      ]
    },
    {
      "cell_type": "markdown",
      "metadata": {
        "id": "3V830Svhim2R"
      },
      "source": [
        "---\n",
        "### **5.1 Create RandomForest model or any other model**\n",
        "---"
      ]
    },
    {
      "cell_type": "code",
      "metadata": {
        "id": "H0c__zBjim2S"
      },
      "source": [
        "rfModel = create_model('rf')"
      ],
      "execution_count": null,
      "outputs": []
    },
    {
      "cell_type": "markdown",
      "metadata": {
        "id": "-RuUMIm2im2S"
      },
      "source": [
        "---\n",
        "### **5.2 Plot the \"error\"**\n",
        "---"
      ]
    },
    {
      "cell_type": "code",
      "metadata": {
        "id": "cDcFbCCGim2T"
      },
      "source": [
        "plot_model(rfModel, plot='error')"
      ],
      "execution_count": null,
      "outputs": []
    },
    {
      "cell_type": "markdown",
      "metadata": {
        "id": "tTHlyeJFim2U"
      },
      "source": [
        "---\n",
        "### **5.3 Plot the \"learning curve\"**\n",
        "---"
      ]
    },
    {
      "cell_type": "code",
      "metadata": {
        "id": "AArgjedYim2U"
      },
      "source": [
        "plot_model(rfModel, plot='learning')"
      ],
      "execution_count": null,
      "outputs": []
    },
    {
      "cell_type": "markdown",
      "metadata": {
        "id": "OXdNdg6I-0T3"
      },
      "source": [
        "---\n",
        "### **5.4 Plot the \"validation curve\"**\n",
        "---"
      ]
    },
    {
      "cell_type": "code",
      "metadata": {
        "id": "Xicye76Bim2V"
      },
      "source": [
        "plot_model(rfModel, plot='vc')"
      ],
      "execution_count": null,
      "outputs": []
    },
    {
      "cell_type": "markdown",
      "metadata": {
        "id": "eUXaDeoL4mlw"
      },
      "source": [
        "---\n",
        "### **5.5 Get the model \"parameters\"**\n",
        "---"
      ]
    },
    {
      "cell_type": "code",
      "metadata": {
        "id": "GpfVxNKA4ml3"
      },
      "source": [
        "plot_model(rfModel, plot='parameter')"
      ],
      "execution_count": null,
      "outputs": []
    },
    {
      "cell_type": "markdown",
      "metadata": {
        "id": "A8EhMMY7tL15"
      },
      "source": [
        "---\n",
        "### **5.6 Explore the more parameters of \"plot_model()\" on pycaret**\n",
        "---\n",
        "**<a href=\"https://pycaret.readthedocs.io/en/latest/api/regression.html#pycaret.regression.plot_model\" target=\"_blank\"> Click Here </a>**"
      ]
    },
    {
      "cell_type": "markdown",
      "metadata": {
        "id": "AsVAOsgc_LbO"
      },
      "source": [
        "---\n",
        "# **6. Feature Importance**\n",
        "---\n",
        "### **6.1 Feature Importance using \"Random Forest\"**\n"
      ]
    },
    {
      "cell_type": "code",
      "metadata": {
        "id": "f9OQ4GiGim2W"
      },
      "source": [
        "rfModel = create_model('rf', verbose=False)\n",
        "plot_model(rfModel, plot='feature')"
      ],
      "execution_count": null,
      "outputs": []
    },
    {
      "cell_type": "markdown",
      "metadata": {
        "id": "bAQByaGaim2X"
      },
      "source": [
        "---\n",
        "### **6.2 Feature Importance using \"Extra Trees Regressor\"**\n",
        "---"
      ]
    },
    {
      "cell_type": "code",
      "metadata": {
        "id": "H1gfOY8tim2X"
      },
      "source": [
        "etModel = create_model('et', verbose=False)\n",
        "plot_model(etModel, plot='feature')"
      ],
      "execution_count": null,
      "outputs": []
    },
    {
      "cell_type": "markdown",
      "metadata": {
        "id": "3SrR7evnim2X"
      },
      "source": [
        "---\n",
        "### **6.3 Feature Importance using \"Decision Tree\"**\n",
        "---"
      ]
    },
    {
      "cell_type": "code",
      "metadata": {
        "id": "XJFxiIhUim2X"
      },
      "source": [
        "dtModel = create_model('dt', verbose=False)\n",
        "plot_model(dtModel, plot='feature')"
      ],
      "execution_count": null,
      "outputs": []
    },
    {
      "cell_type": "markdown",
      "metadata": {
        "id": "eoYnuzrcLDx4"
      },
      "source": [
        "---\n",
        "# **7. Tune/Optimize the model performance**\n",
        "---\n",
        "### **7.1 Train \"Decision Tree\" with default parameters**\n"
      ]
    },
    {
      "cell_type": "code",
      "metadata": {
        "id": "itaCP4yPLDx-"
      },
      "source": [
        "dtModel = create_model('dt')"
      ],
      "execution_count": null,
      "outputs": []
    },
    {
      "cell_type": "markdown",
      "metadata": {
        "id": "KBWk2aKyLDyA"
      },
      "source": [
        "#### **Get the \"parameters\" of Decision Tree**"
      ]
    },
    {
      "cell_type": "code",
      "metadata": {
        "id": "Je3ABt9cLDyC"
      },
      "source": [
        "plot_model(dtModel, plot='parameter')"
      ],
      "execution_count": null,
      "outputs": []
    },
    {
      "cell_type": "markdown",
      "metadata": {
        "id": "W0TsqU0QLDyD"
      },
      "source": [
        "---\n",
        "### **7.2 Tune \"Decision Tree\" model**\n",
        "---"
      ]
    },
    {
      "cell_type": "code",
      "metadata": {
        "id": "ugxaxz0oLDyE"
      },
      "source": [
        "dtModelTuned = tune_model(dtModel, n_iter=200)"
      ],
      "execution_count": null,
      "outputs": []
    },
    {
      "cell_type": "markdown",
      "metadata": {
        "id": "khusRJwOQc0K"
      },
      "source": [
        "#### **Get the \"tuned parameters\" of Decision Tree**"
      ]
    },
    {
      "cell_type": "code",
      "metadata": {
        "id": "1x3FC2eeQc0L"
      },
      "source": [
        "plot_model(dtModelTuned, plot='parameter')"
      ],
      "execution_count": null,
      "outputs": []
    },
    {
      "cell_type": "markdown",
      "metadata": {
        "id": "FPtPrnT-Q-z1"
      },
      "source": [
        "---\n",
        "### **7.3 Explore more parameters of \"tune_model()\" on pycaret**\n",
        "---\n",
        "**<a href=\"https://pycaret.readthedocs.io/en/latest/api/regression.html#pycaret.regression.tune_model\" target=\"_blank\"> Click Here </a>**"
      ]
    },
    {
      "cell_type": "markdown",
      "metadata": {
        "id": "hICikRsyim2Z"
      },
      "source": [
        "---\n",
        "# **8. AutoML - Advanced Machine Learning**\n",
        "---\n",
        "\n",
        "- Select n Best Models:\n",
        "  - Ensemble, Stacking, Begging, Blending\n",
        "  - Auto tune the best n models\n",
        "\n",
        "**<a href=\"https://pycaret.readthedocs.io/en/latest/api/regression.html#pycaret.regression.automl\" target=\"_blank\">Click Here</a>**\n"
      ]
    },
    {
      "cell_type": "markdown",
      "metadata": {
        "id": "UgDkSm_VP5Hy"
      },
      "source": [
        "---\n",
        "# **9. Deploy the model on AWS / Azure**\n",
        "---\n",
        "**<a href=\"https://pycaret.readthedocs.io/en/latest/api/regression.html#pycaret.regression.deploy_model\" target=\"_blank\">Click Here</a>**\n"
      ]
    }
  ]
}